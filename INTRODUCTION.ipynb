{
  "nbformat": 4,
  "nbformat_minor": 0,
  "metadata": {
    "colab": {
      "name": "Untitled0.ipynb",
      "provenance": [],
      "authorship_tag": "ABX9TyPGnpk44MIVykFQQ+HEFyQj"
    },
    "kernelspec": {
      "name": "python3",
      "display_name": "Python 3"
    }
  },
  "cells": [
    {
      "cell_type": "markdown",
      "metadata": {
        "id": "QZtVsq7tIEyO",
        "colab_type": "text"
      },
      "source": [
        "# INTRODUCTION"
      ]
    },
    {
      "cell_type": "markdown",
      "metadata": {
        "id": "5HStcEDbOY2l",
        "colab_type": "text"
      },
      "source": [
        "Accidents are bad events to experience. The occurrence of an accident can cause undue loss. Colburn Law says that almost every day, collisions occur in Seattle. In data released by the Seattle Department of Transportation, it is known that there were 2,881 collisions experienced by parked cars. Therefore, with all the existing parameters (wheather, road condition, etc.) I created a program that can predict car accident severity using Machine Learning."
      ]
    },
    {
      "cell_type": "code",
      "metadata": {
        "id": "Ro2CiuccP7Lj",
        "colab_type": "code",
        "colab": {}
      },
      "source": [
        ""
      ],
      "execution_count": null,
      "outputs": []
    }
  ]
}